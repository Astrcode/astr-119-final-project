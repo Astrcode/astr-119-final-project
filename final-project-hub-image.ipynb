{
 "cells": [
  {
   "cell_type": "markdown",
   "id": "af016197",
   "metadata": {},
   "source": [
    "# Astronomical Source Detection of the f105w band image of the Hubble Ultra Deep Field"
   ]
  },
  {
   "cell_type": "markdown",
   "id": "ba2e23c7",
   "metadata": {},
   "source": [
    "## Prepping the image"
   ]
  },
  {
   "cell_type": "code",
   "execution_count": null,
   "id": "b844c704",
   "metadata": {},
   "outputs": [],
   "source": [
    "%matplotlib inline\n",
    "import numpy as np\n",
    "import matplotlib.pyplot as plt\n",
    "import sep\n",
    "from astropy.io import fits\n",
    "from matplotlib import rcParams\n",
    "from matplotlib.patches import Ellipse\n",
    "\n",
    "rcParams['figure.figsize'] = [10., 8.]"
   ]
  },
  {
   "cell_type": "markdown",
   "id": "14c9bd49",
   "metadata": {},
   "source": [
    "### Open FITS file and store in a 2D array"
   ]
  },
  {
   "cell_type": "code",
   "execution_count": null,
   "id": "8a9e7427",
   "metadata": {},
   "outputs": [],
   "source": [
    "fname = \"hlsp_hudf12_hst_wfc3ir_udfmain_f105w_v1.0_drz.fits\"\n",
    "hdu_list = fits.open(fname)\n",
    "image_data = fits.getdata(fname)"
   ]
  },
  {
   "cell_type": "markdown",
   "id": "401fc8fd",
   "metadata": {},
   "source": [
    "### To check the dimensions of the image"
   ]
  },
  {
   "cell_type": "code",
   "execution_count": null,
   "id": "9c45741c",
   "metadata": {},
   "outputs": [],
   "source": [
    "print(type(image_data))\n",
    "print(image_data.shape)"
   ]
  },
  {
   "cell_type": "markdown",
   "id": "d1883178",
   "metadata": {},
   "source": [
    "### Show the image"
   ]
  },
  {
   "cell_type": "code",
   "execution_count": null,
   "id": "57153754",
   "metadata": {},
   "outputs": [],
   "source": [
    "image_data_mean = np.mean(image_data)\n",
    "image_data_std = np.std(image_data)\n",
    "plt.imshow(image_data, \n",
    "           cmap = 'magma', \n",
    "           interpolation = 'nearest', \n",
    "           vmin = image_data_mean - image_data_std, \n",
    "           vmax = image_data_mean + image_data_std, \n",
    "           origin = 'lower')\n",
    "plt.colorbar()\n",
    "plt.savefig('f105w.png')"
   ]
  },
  {
   "cell_type": "markdown",
   "id": "941ebec1",
   "metadata": {},
   "source": [
    "## Background subtraction"
   ]
  },
  {
   "cell_type": "markdown",
   "id": "2e24aed0",
   "metadata": {},
   "source": [
    "### Return a background object that holds information on spatially varying background and noise level"
   ]
  },
  {
   "cell_type": "code",
   "execution_count": null,
   "id": "65c48769",
   "metadata": {},
   "outputs": [],
   "source": [
    "#measure a spatially varying background on the image\n",
    "image_data = image_data.byteswap().newbyteorder()\n",
    "bkg = sep.Background(image_data)"
   ]
  },
  {
   "cell_type": "markdown",
   "id": "baf21ec3",
   "metadata": {},
   "source": [
    "### Get a \"global\" mean and noise of the image background"
   ]
  },
  {
   "cell_type": "code",
   "execution_count": null,
   "id": "b4f8761a",
   "metadata": {},
   "outputs": [],
   "source": [
    "print(bkg.globalback)\n",
    "print(bkg.globalrms)"
   ]
  },
  {
   "cell_type": "markdown",
   "id": "6734c6ae",
   "metadata": {},
   "source": [
    "### Evaluate background as 2D array (image is same size as original"
   ]
  },
  {
   "cell_type": "code",
   "execution_count": null,
   "id": "d29f5ebd",
   "metadata": {},
   "outputs": [],
   "source": [
    "bkg_image = np.array(bkg)"
   ]
  },
  {
   "cell_type": "markdown",
   "id": "2233fc68",
   "metadata": {},
   "source": [
    "### Show background"
   ]
  },
  {
   "cell_type": "code",
   "execution_count": null,
   "id": "8da06269",
   "metadata": {},
   "outputs": [],
   "source": [
    "plt.imshow(bkg_image,\n",
    "           interpolation = 'nearest',\n",
    "           cmap = 'magma',\n",
    "           origin = 'lower')\n",
    "plt.colorbar()\n",
    "#plt.savefig('f105w_bkg.png')"
   ]
  },
  {
   "cell_type": "markdown",
   "id": "a0864dc2",
   "metadata": {},
   "source": [
    "### Evaluate background noise as 2D array"
   ]
  },
  {
   "cell_type": "code",
   "execution_count": null,
   "id": "8e02e376",
   "metadata": {},
   "outputs": [],
   "source": [
    "bkg_rms = bkg.rms()"
   ]
  },
  {
   "cell_type": "markdown",
   "id": "f4376612",
   "metadata": {},
   "source": [
    "### Show background noise"
   ]
  },
  {
   "cell_type": "code",
   "execution_count": null,
   "id": "8706bb44",
   "metadata": {},
   "outputs": [],
   "source": [
    "plt.imshow(bkg_rms, \n",
    "           interpolation = 'nearest', \n",
    "           cmap = 'magma',\n",
    "           origin = 'lower')\n",
    "plt.colorbar()\n",
    "#plt.savefile('f105w_noise.png')"
   ]
  },
  {
   "cell_type": "markdown",
   "id": "aa0fbb24",
   "metadata": {},
   "source": [
    "### Subtract background"
   ]
  },
  {
   "cell_type": "code",
   "execution_count": null,
   "id": "42d581c4",
   "metadata": {},
   "outputs": [],
   "source": [
    "data_sub = image_data - bkg"
   ]
  },
  {
   "cell_type": "markdown",
   "id": "0cf6f6de",
   "metadata": {},
   "source": [
    "## Object detection"
   ]
  },
  {
   "cell_type": "markdown",
   "id": "98e868f3",
   "metadata": {},
   "source": [
    "### Using background-subtracted data to run object detection..."
   ]
  },
  {
   "cell_type": "markdown",
   "id": "08924de3",
   "metadata": {},
   "source": [
    "### Background noise is flat, so set detection threshold as 1.5σ where σ is the global background RMS"
   ]
  },
  {
   "cell_type": "code",
   "execution_count": null,
   "id": "1c504e71",
   "metadata": {},
   "outputs": [],
   "source": [
    "σ = bkg.globalrms\n",
    "objects = sep.extract(data_sub, 1.5, err = σ)"
   ]
  },
  {
   "cell_type": "markdown",
   "id": "4607167b",
   "metadata": {},
   "source": [
    "### Check to see how many objects were detected"
   ]
  },
  {
   "cell_type": "code",
   "execution_count": null,
   "id": "2ea71849",
   "metadata": {},
   "outputs": [],
   "source": [
    "object_count = len(objects)\n",
    "object_count"
   ]
  },
  {
   "cell_type": "markdown",
   "id": "2534f894",
   "metadata": {},
   "source": [
    "### To check where the detected objects are, over-plot basic coordinates with some shape parameters"
   ]
  },
  {
   "cell_type": "markdown",
   "id": "4ea765f5",
   "metadata": {},
   "source": [
    "### Plot background-subtracted image with subplots"
   ]
  },
  {
   "cell_type": "code",
   "execution_count": null,
   "id": "d3217eac",
   "metadata": {},
   "outputs": [],
   "source": [
    "fig, ax = plt.subplots()\n",
    "data_sub_mean = np.mean(data_sub)\n",
    "data_sub_std = np.std(data_sub)\n",
    "bkg_sub_image = ax.imshow(data_sub,\n",
    "                          interpolation = 'nearest',\n",
    "                          cmap = 'magma',\n",
    "                          vmin = data_sub_mean - data_sub_std,\n",
    "                          vmax = data_sub_mean + data_sub_std,\n",
    "                          origin = 'lower')\n",
    "\n",
    "#plot an ellipse for each object\n",
    "for i in range(object_count):\n",
    "    \n",
    "    # objects['x'] and objects['y'] gives centroid coordinates of the objects\n",
    "    # ellipse parameters for each object\n",
    "    \n",
    "    x = objects['x'][i]\n",
    "    y = objects['y'][i]\n",
    "    width = 6*objects['a'][i]\n",
    "    height = 6*objects['b'][i]\n",
    "    angle = objects['theta'][i] * 180./np.pi\n",
    "    e = Ellipse(xy = (x, y),\n",
    "                width = width,\n",
    "                height = height,\n",
    "                angle = angle)\n",
    "    e.set_facecolor('none')\n",
    "    e.set_edgecolor('red')\n",
    "    ax.add_artist(e)\n",
    "    \n",
    "#plt.savefig('f105w_final.png')"
   ]
  },
  {
   "cell_type": "markdown",
   "id": "a48456dc",
   "metadata": {},
   "source": [
    "### [objects] has other fields which give information liek second moments and peak pixel positions and values. To see available fields:"
   ]
  },
  {
   "cell_type": "code",
   "execution_count": null,
   "id": "16a311b3",
   "metadata": {},
   "outputs": [],
   "source": [
    "objects.dtype.names"
   ]
  },
  {
   "cell_type": "markdown",
   "id": "82f5557e",
   "metadata": {},
   "source": [
    "## Aperture photometry"
   ]
  },
  {
   "cell_type": "markdown",
   "id": "1e38eefc",
   "metadata": {},
   "source": [
    "### To perfrom simple circular photometry with a 3 pixel radius at object locations"
   ]
  },
  {
   "cell_type": "code",
   "execution_count": null,
   "id": "11de3534",
   "metadata": {},
   "outputs": [],
   "source": [
    "flux, fluxerr, flag = sep.sum_circle(data_sub,\n",
    "                                     objects['x'],\n",
    "                                     objects['y'],\n",
    "                                     3.0,\n",
    "                                     err = σ,\n",
    "                                     gain = 1.0)\n",
    "\n",
    "#flux, fluxerr, and flag are 1D arrays with one entry per object"
   ]
  },
  {
   "cell_type": "markdown",
   "id": "456fa6d0",
   "metadata": {},
   "source": [
    "### To show first 10 objects results"
   ]
  },
  {
   "cell_type": "code",
   "execution_count": null,
   "id": "d105470e",
   "metadata": {},
   "outputs": [],
   "source": [
    "for i in range(10):\n",
    "    print(\"object {:d}: flux = {:f} +/- {:f}\".format(i, flux[i], fluxerr[i]))"
   ]
  },
  {
   "cell_type": "markdown",
   "id": "85979de6",
   "metadata": {},
   "source": [
    "### Using ABMag to make the histogram (referenced from STSCI website)"
   ]
  },
  {
   "cell_type": "code",
   "execution_count": null,
   "id": "265992ec",
   "metadata": {},
   "outputs": [],
   "source": [
    "#log cannot have negative in the argument so\n",
    "flux_1 = flux[flux > 0]\n",
    "ABMag = -2.5*np.log10(flux_1) - 26.0974"
   ]
  },
  {
   "cell_type": "code",
   "execution_count": null,
   "id": "137664e0",
   "metadata": {},
   "outputs": [],
   "source": [
    "histogram = plt.hist(ABMag, bins = 'auto')"
   ]
  }
 ],
 "metadata": {
  "kernelspec": {
   "display_name": "Python 3 (ipykernel)",
   "language": "python",
   "name": "python3"
  },
  "language_info": {
   "codemirror_mode": {
    "name": "ipython",
    "version": 3
   },
   "file_extension": ".py",
   "mimetype": "text/x-python",
   "name": "python",
   "nbconvert_exporter": "python",
   "pygments_lexer": "ipython3",
   "version": "3.9.7"
  }
 },
 "nbformat": 4,
 "nbformat_minor": 5
}
