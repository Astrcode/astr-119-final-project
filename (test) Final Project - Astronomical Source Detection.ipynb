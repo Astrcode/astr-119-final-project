{
 "cells": [
  {
   "cell_type": "markdown",
   "id": "867f380e",
   "metadata": {},
   "source": [
    "## This is my practice tutorial for the final project"
   ]
  },
  {
   "cell_type": "markdown",
   "id": "74b5fc02",
   "metadata": {},
   "source": [
    "## Here we will use the astropy as our fits reader"
   ]
  },
  {
   "cell_type": "code",
   "execution_count": null,
   "id": "56b7eec7",
   "metadata": {},
   "outputs": [],
   "source": [
    "import numpy as np\n",
    "import sep\n",
    "from astropy.io import fits\n",
    "import matplotlib.pyplot as plt\n",
    "from matplotlib import rcParams\n",
    "%matplotlib inline\n",
    "\n",
    "rcParams['figure.figsize'] = [10., 8.]"
   ]
  },
  {
   "cell_type": "markdown",
   "id": "f97df5a4",
   "metadata": {},
   "source": [
    "## Here we will open our FITS file"
   ]
  },
  {
   "cell_type": "code",
   "execution_count": null,
   "id": "afd924f9",
   "metadata": {},
   "outputs": [],
   "source": [
    "fname = \"image.fits\"\n",
    "hdu_list = fits.open(fname)\n",
    "hdu_list.info()"
   ]
  },
  {
   "cell_type": "markdown",
   "id": "8a71b7ad",
   "metadata": {},
   "source": [
    "## Gather information from the PRIMARY block using hdu_list"
   ]
  },
  {
   "cell_type": "code",
   "execution_count": null,
   "id": "7c842aea",
   "metadata": {},
   "outputs": [],
   "source": [
    "image_data = hdu_list[0].data"
   ]
  },
  {
   "cell_type": "markdown",
   "id": "1f7f3c48",
   "metadata": {},
   "source": [
    "## To gather dimensions of the image we will look at the shape of the array"
   ]
  },
  {
   "cell_type": "code",
   "execution_count": null,
   "id": "8ffe8079",
   "metadata": {},
   "outputs": [],
   "source": [
    "print(type(image_data))\n",
    "print(image_data.shape)"
   ]
  },
  {
   "cell_type": "markdown",
   "id": "e00073e5",
   "metadata": {},
   "source": [
    "## Close the FITS file, everything was stored to a variable"
   ]
  },
  {
   "cell_type": "code",
   "execution_count": null,
   "id": "2aa3059b",
   "metadata": {},
   "outputs": [],
   "source": [
    "hdu_list.close()"
   ]
  },
  {
   "cell_type": "markdown",
   "id": "51888e5d",
   "metadata": {},
   "source": [
    "## A shortcut [getdata()] to just read in the image data and close the file"
   ]
  },
  {
   "cell_type": "code",
   "execution_count": null,
   "id": "4c074264",
   "metadata": {},
   "outputs": [],
   "source": [
    "image_data = fits.getdata(fname)\n",
    "print(type(image_data))\n",
    "print(image_data.shape)"
   ]
  },
  {
   "cell_type": "markdown",
   "id": "39c8cfcb",
   "metadata": {},
   "source": [
    "## Show the image"
   ]
  },
  {
   "cell_type": "code",
   "execution_count": null,
   "id": "67526984",
   "metadata": {},
   "outputs": [],
   "source": [
    "m, s = np.mean(image_data), np.std(image_data)\n",
    "plt.imshow(image_data, interpolation='nearest', cmap='magma', vmin=m-s, vmax=m+s, origin='lower')\n",
    "plt.colorbar();"
   ]
  },
  {
   "cell_type": "markdown",
   "id": "0756d781",
   "metadata": {},
   "source": [
    "## Subtract the background data before sources can be detected with separate steps"
   ]
  },
  {
   "cell_type": "code",
   "execution_count": null,
   "id": "1bec321b",
   "metadata": {},
   "outputs": [],
   "source": [
    "# measure a spatially varying background on the image\n",
    "bkg = sep.Background(image_data)"
   ]
  },
  {
   "cell_type": "markdown",
   "id": "ec8d283a",
   "metadata": {},
   "source": [
    "## Basic statistics about our image:"
   ]
  },
  {
   "cell_type": "code",
   "execution_count": null,
   "id": "102bbf62",
   "metadata": {},
   "outputs": [],
   "source": [
    "print('Min:', np.min(image_data))\n",
    "print('Max:', np.max(image_data))\n",
    "print('Mean:', np.mean(image_data))\n",
    "print('Stdev:', np.std(image_data))"
   ]
  },
  {
   "cell_type": "markdown",
   "id": "9dc17865",
   "metadata": {},
   "source": [
    "## Control the box size"
   ]
  },
  {
   "cell_type": "code",
   "execution_count": null,
   "id": "2a20fa3e",
   "metadata": {},
   "outputs": [],
   "source": [
    "bkg = sep.Background(image_data)"
   ]
  },
  {
   "cell_type": "code",
   "execution_count": null,
   "id": "e9d79d22",
   "metadata": {},
   "outputs": [],
   "source": [
    "# get a \"global\" mean and noise of the image background:\n",
    "print(bkg.globalback)\n",
    "print(bkg.globalrms)"
   ]
  },
  {
   "cell_type": "code",
   "execution_count": null,
   "id": "7e6e50aa",
   "metadata": {},
   "outputs": [],
   "source": [
    "# evaluate background as 2-d array, same size as original image\n",
    "bkg_image = bkg.back()\n",
    "# bkg_image = np.array(bkg) # equivalent to above"
   ]
  },
  {
   "cell_type": "code",
   "execution_count": null,
   "id": "ade52f29",
   "metadata": {},
   "outputs": [],
   "source": [
    "# show the background\n",
    "plt.imshow(bkg_image, interpolation='nearest', cmap='magma', origin='lower')\n",
    "plt.colorbar();"
   ]
  },
  {
   "cell_type": "code",
   "execution_count": null,
   "id": "f745fd8a",
   "metadata": {},
   "outputs": [],
   "source": [
    "# evaluate the background noise as 2-d array, same size as original image\n",
    "bkg_rms = bkg.rms()"
   ]
  },
  {
   "cell_type": "code",
   "execution_count": null,
   "id": "ab61c163",
   "metadata": {},
   "outputs": [],
   "source": [
    "# show the background noise\n",
    "plt.imshow(bkg_rms, interpolation='nearest', cmap='rainbow', origin='lower')\n",
    "plt.colorbar();"
   ]
  },
  {
   "cell_type": "code",
   "execution_count": null,
   "id": "de9e7a84",
   "metadata": {},
   "outputs": [],
   "source": [
    "# subtract the background\n",
    "data_sub = image_data - bkg"
   ]
  },
  {
   "cell_type": "markdown",
   "id": "d255602e",
   "metadata": {},
   "source": [
    "## Now that we’ve subtracted the background, we can run object detection on the background-subtracted data. You can see the background noise level is pretty flat. So here we’re setting the detection threshold to be a constant value of 1.5σ where σ is the global background RMS."
   ]
  },
  {
   "cell_type": "code",
   "execution_count": null,
   "id": "7d136af1",
   "metadata": {},
   "outputs": [],
   "source": [
    "objects = sep.extract(data_sub, 1.5, err=bkg.globalrms)\n",
    "\n",
    "#sep.extract has many options for controlling detection threshold, pixel masking, filtering, and object deblending."
   ]
  },
  {
   "cell_type": "code",
   "execution_count": null,
   "id": "3f3a1652",
   "metadata": {},
   "outputs": [],
   "source": [
    "# how many objects were detected\n",
    "len(objects)"
   ]
  },
  {
   "cell_type": "markdown",
   "id": "18ea07be",
   "metadata": {},
   "source": [
    "## objects['x'] and objects['y'] will give the centroid coordinates of the objects. Just to check where the detected objects are, we’ll over-plot the object coordinates with some basic shape parameters on the image"
   ]
  },
  {
   "cell_type": "code",
   "execution_count": null,
   "id": "e5ecc26f",
   "metadata": {},
   "outputs": [],
   "source": [
    "from matplotlib.patches import Ellipse\n",
    "\n",
    "# plot background-subtracted image\n",
    "fig, ax = plt.subplots()\n",
    "m, s = np.mean(data_sub), np.std(data_sub)\n",
    "im = ax.imshow(data_sub, interpolation='nearest', cmap='plasma',\n",
    "               vmin=m-s, vmax=m+s, origin='lower')\n",
    "\n",
    "# plot an ellipse for each object\n",
    "for i in range(len(objects)):\n",
    "    e = Ellipse(xy=(objects['x'][i], objects['y'][i]),\n",
    "                width=6*objects['a'][i],\n",
    "                height=6*objects['b'][i],\n",
    "                angle=objects['theta'][i] * 180. / np.pi)\n",
    "    e.set_facecolor('none')\n",
    "    e.set_edgecolor('pink')\n",
    "    ax.add_artist(e)"
   ]
  },
  {
   "cell_type": "markdown",
   "id": "c5efb2e8",
   "metadata": {},
   "source": [
    "## objects has many fields, gives information such as second moments,peak pixel position and values"
   ]
  },
  {
   "cell_type": "code",
   "execution_count": null,
   "id": "599c7dde",
   "metadata": {},
   "outputs": [],
   "source": [
    "# available fields\n",
    "objects.dtype.names"
   ]
  },
  {
   "cell_type": "markdown",
   "id": "5c4c5cdc",
   "metadata": {},
   "source": [
    "## We’ll perform simple circular aperture photometry with a 3 pixel radius at the locations of the objects"
   ]
  },
  {
   "cell_type": "code",
   "execution_count": null,
   "id": "262b48b1",
   "metadata": {},
   "outputs": [],
   "source": [
    "flux, fluxerr, flag = sep.sum_circle(data_sub, objects['x'], objects['y'],\n",
    "                                     3.0, err=bkg.globalrms, gain=1.0)\n"
   ]
  },
  {
   "cell_type": "code",
   "execution_count": null,
   "id": "ef1ef3fd",
   "metadata": {},
   "outputs": [],
   "source": [
    "# show the first 10 objects results:\n",
    "for i in range(10):\n",
    "    print(\"object {:d}: flux = {:f} +/- {:f}\".format(i, flux[i], fluxerr[i]))"
   ]
  },
  {
   "cell_type": "code",
   "execution_count": null,
   "id": "f0a5bfe8",
   "metadata": {},
   "outputs": [],
   "source": []
  }
 ],
 "metadata": {
  "kernelspec": {
   "display_name": "Python 3 (ipykernel)",
   "language": "python",
   "name": "python3"
  },
  "language_info": {
   "codemirror_mode": {
    "name": "ipython",
    "version": 3
   },
   "file_extension": ".py",
   "mimetype": "text/x-python",
   "name": "python",
   "nbconvert_exporter": "python",
   "pygments_lexer": "ipython3",
   "version": "3.9.7"
  }
 },
 "nbformat": 4,
 "nbformat_minor": 5
}
