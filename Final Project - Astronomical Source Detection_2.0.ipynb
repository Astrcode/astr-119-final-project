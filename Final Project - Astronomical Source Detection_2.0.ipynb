{
 "cells": [
  {
   "cell_type": "markdown",
   "id": "867f380e",
   "metadata": {},
   "source": [
    "## Final Version"
   ]
  },
  {
   "cell_type": "markdown",
   "id": "3802a191",
   "metadata": {},
   "source": [
    "## Here we will use the astropy as our fits reader"
   ]
  },
  {
   "cell_type": "code",
   "execution_count": null,
   "id": "56b7eec7",
   "metadata": {},
   "outputs": [],
   "source": [
    "import numpy as np\n",
    "import sep\n",
    "from astropy.io import fits\n",
    "import matplotlib.pyplot as plt\n",
    "from matplotlib import rcParams\n",
    "%matplotlib inline\n",
    "import os\n",
    "\n",
    "rcParams['figure.figsize'] = [10., 8.]"
   ]
  },
  {
   "cell_type": "markdown",
   "id": "14819c43",
   "metadata": {},
   "source": [
    "## Here we will open our FITS file"
   ]
  },
  {
   "cell_type": "code",
   "execution_count": null,
   "id": "afd924f9",
   "metadata": {},
   "outputs": [],
   "source": [
    "fname = \"hlsp_hudf12_hst_wfc3ir_udfmain_f105w_v1.0_drz.fits\"\n",
    "hdu_list = fits.open(fname)\n",
    "hdu_list.info()"
   ]
  },
  {
   "cell_type": "markdown",
   "id": "f98ba2c0",
   "metadata": {},
   "source": [
    "## Gather information from the PRIMARY block using hdu_list"
   ]
  },
  {
   "cell_type": "code",
   "execution_count": null,
   "id": "7c842aea",
   "metadata": {},
   "outputs": [],
   "source": [
    "image_data = hdu_list[0].data"
   ]
  },
  {
   "cell_type": "markdown",
   "id": "a1061fbe",
   "metadata": {},
   "source": [
    "## To gather dimensions of the image we will look at the shape of the array"
   ]
  },
  {
   "cell_type": "code",
   "execution_count": null,
   "id": "8f7fedbe",
   "metadata": {},
   "outputs": [],
   "source": [
    "print(type(image_data))\n",
    "print(image_data.shape)"
   ]
  },
  {
   "cell_type": "markdown",
   "id": "7e6e2d69",
   "metadata": {},
   "source": [
    "## Close the FITS file, everything was stored to a variable"
   ]
  },
  {
   "cell_type": "code",
   "execution_count": null,
   "id": "1f40a52c",
   "metadata": {},
   "outputs": [],
   "source": [
    "hdu_list.close()"
   ]
  },
  {
   "cell_type": "markdown",
   "id": "cd16970f",
   "metadata": {},
   "source": [
    "## shortcut: [getdata()] to just read in the image data and close the file"
   ]
  },
  {
   "cell_type": "code",
   "execution_count": null,
   "id": "ef3e0125",
   "metadata": {},
   "outputs": [],
   "source": [
    "image_data = fits.getdata(fname)\n",
    "print(type(image_data))\n",
    "print(image_data.shape)"
   ]
  },
  {
   "cell_type": "markdown",
   "id": "dd78bb12",
   "metadata": {},
   "source": [
    "## Show the image"
   ]
  },
  {
   "cell_type": "code",
   "execution_count": null,
   "id": "4e228b64",
   "metadata": {},
   "outputs": [],
   "source": [
    "m, s = np.mean(image_data), np.std(image_data)\n",
    "plt.imshow(image_data, interpolation='nearest', cmap='gray', vmin=m-s, vmax=m+s, origin='lower')\n",
    "plt.colorbar();\n",
    "\n",
    "plt.savefig('astro_1.png')"
   ]
  },
  {
   "cell_type": "markdown",
   "id": "a24d596f",
   "metadata": {},
   "source": [
    "## Subtract the background data before sources can be detected with separate steps"
   ]
  },
  {
   "cell_type": "code",
   "execution_count": null,
   "id": "1f24cc55",
   "metadata": {},
   "outputs": [],
   "source": [
    "#measure a spatially varying background on the image\n",
    "image_data = image_data.byteswap(False).newbyteorder()\n",
    "bkg = sep.Background(image_data)"
   ]
  },
  {
   "cell_type": "markdown",
   "id": "d2d24d05",
   "metadata": {},
   "source": [
    "## Basic statistics about our image:"
   ]
  },
  {
   "cell_type": "code",
   "execution_count": null,
   "id": "509b78fc",
   "metadata": {},
   "outputs": [],
   "source": [
    "print('Min:', np.min(image_data))\n",
    "print('Max:', np.max(image_data))\n",
    "print('Mean:', np.mean(image_data))\n",
    "print('Stdev:', np.std(image_data))"
   ]
  },
  {
   "cell_type": "code",
   "execution_count": null,
   "id": "22746270",
   "metadata": {},
   "outputs": [],
   "source": [
    "from matplotlib.colors import LogNorm"
   ]
  },
  {
   "cell_type": "code",
   "execution_count": null,
   "id": "53ccc6bc",
   "metadata": {},
   "outputs": [],
   "source": [
    "plt.imshow(image_data, cmap='cool', norm=LogNorm())\n",
    "\n",
    "\n",
    "cbar = plt.colorbar(ticks=[5.e3,1.e4,2.e4])\n",
    "cbar.ax.set_yticklabels(['5,000','10,000','20,000'])\n",
    "\n",
    "plt.savefig('image.png')"
   ]
  },
  {
   "cell_type": "markdown",
   "id": "97b2e77f",
   "metadata": {},
   "source": [
    "## Control the box size"
   ]
  },
  {
   "cell_type": "code",
   "execution_count": null,
   "id": "e6945cca",
   "metadata": {},
   "outputs": [],
   "source": [
    "bkg = sep.Background(image_data)"
   ]
  },
  {
   "cell_type": "code",
   "execution_count": null,
   "id": "d2116dd4",
   "metadata": {},
   "outputs": [],
   "source": [
    "# get a \"global\" mean and noise of the image background:\n",
    "print(bkg.globalback)\n",
    "print(bkg.globalrms)"
   ]
  },
  {
   "cell_type": "code",
   "execution_count": null,
   "id": "b960557f",
   "metadata": {},
   "outputs": [],
   "source": [
    "# evaluate background as 2-d array, same size as original image\n",
    "bkg_image = bkg.back()\n",
    "# bkg_image = np.array(bkg) # equivalent to above"
   ]
  },
  {
   "cell_type": "code",
   "execution_count": null,
   "id": "cbf0a3a8",
   "metadata": {},
   "outputs": [],
   "source": [
    "# show the background of the image\n",
    "plt.imshow(bkg_image, interpolation='nearest', cmap='magma', origin='lower')\n",
    "plt.colorbar();\n",
    "\n",
    "plt.savefig('backgroun_noise.png')"
   ]
  },
  {
   "cell_type": "code",
   "execution_count": null,
   "id": "21b3700d",
   "metadata": {},
   "outputs": [],
   "source": [
    "# evaluate the background noise as 2-d array, same size as original image\n",
    "bkg_rms = bkg.rms()"
   ]
  },
  {
   "cell_type": "code",
   "execution_count": null,
   "id": "c22b3f86",
   "metadata": {},
   "outputs": [],
   "source": [
    "# show the background noise\n",
    "plt.imshow(bkg_rms, interpolation='nearest', cmap='rainbow', origin='lower')\n",
    "plt.colorbar();\n",
    "\n",
    "plt.savefig('background_noise_2.png')"
   ]
  },
  {
   "cell_type": "code",
   "execution_count": null,
   "id": "664535c7",
   "metadata": {},
   "outputs": [],
   "source": [
    "# subtract the background\n",
    "data_sub = image_data - bkg"
   ]
  },
  {
   "cell_type": "markdown",
   "id": "a711be85",
   "metadata": {},
   "source": [
    "## Now that we’ve subtracted the background, we can run object detection on the background-subtracted data. You can see the background noise level is pretty flat. So here we’re setting the detection threshold to be a constant value of 1.5σ where σ is the global background RMS."
   ]
  },
  {
   "cell_type": "code",
   "execution_count": null,
   "id": "537fb06d",
   "metadata": {},
   "outputs": [],
   "source": [
    "objects = sep.extract(data_sub, 1.5, err=bkg.globalrms)\n",
    "\n",
    "#sep.extract has many options for controlling detection threshold, pixel masking, filtering, and object deblending."
   ]
  },
  {
   "cell_type": "markdown",
   "id": "8cfd206c",
   "metadata": {},
   "source": [
    "## Number of sources detected"
   ]
  },
  {
   "cell_type": "code",
   "execution_count": null,
   "id": "1e5226bf",
   "metadata": {},
   "outputs": [],
   "source": [
    "# how many objects were detected\n",
    "len(objects)"
   ]
  },
  {
   "cell_type": "markdown",
   "id": "f277e22a",
   "metadata": {},
   "source": [
    "## objects['x'] and objects['y'] will give the centroid coordinates of the objects. Just to check where the detected objects are, we’ll over-plot the object coordinates with some basic shape parameters on the image"
   ]
  },
  {
   "cell_type": "code",
   "execution_count": null,
   "id": "d35a0a78",
   "metadata": {},
   "outputs": [],
   "source": [
    "from matplotlib.patches import Ellipse\n",
    "\n",
    "# plot background-subtracted image\n",
    "fig, ax = plt.subplots()\n",
    "m, s = np.mean(data_sub), np.std(data_sub)\n",
    "im = ax.imshow(data_sub, interpolation='nearest', cmap='plasma',\n",
    "               vmin=m-s, vmax=m+s, origin='lower')\n",
    "\n",
    "# plot an ellipse for each object\n",
    "for i in range(len(objects)):\n",
    "    e = Ellipse(xy=(objects['x'][i], objects['y'][i]),\n",
    "                width=6*objects['a'][i],\n",
    "                height=6*objects['b'][i],\n",
    "                angle=objects['theta'][i] * 180. / np.pi)\n",
    "    e.set_facecolor('none')\n",
    "    e.set_edgecolor('black')\n",
    "    ax.add_artist(e)\n",
    "    \n",
    "plt.savefig('ellipse.png')"
   ]
  },
  {
   "cell_type": "markdown",
   "id": "a86c8b62",
   "metadata": {},
   "source": [
    "## object has many fields, gives information such as second moments, peak pixel position and values"
   ]
  },
  {
   "cell_type": "code",
   "execution_count": null,
   "id": "20e76523",
   "metadata": {},
   "outputs": [],
   "source": [
    "# available fields\n",
    "objects.dtype.names"
   ]
  },
  {
   "cell_type": "markdown",
   "id": "4eb8be21",
   "metadata": {},
   "source": [
    "## We’ll perform simple circular aperture photometry with a 3 pixel radius at the locations of the objects"
   ]
  },
  {
   "cell_type": "code",
   "execution_count": null,
   "id": "6ca0a77a",
   "metadata": {},
   "outputs": [],
   "source": [
    "flux, fluxerr, flag = sep.sum_circle(data_sub, \n",
    "                                     objects['x'], objects['y'],\n",
    "                                     3.0, err=bkg.globalrms, gain=1.0)\n"
   ]
  },
  {
   "cell_type": "code",
   "execution_count": null,
   "id": "7b789f09",
   "metadata": {},
   "outputs": [],
   "source": [
    "# show the first 10 objects results:\n",
    "for i in range(10):\n",
    "    print(\"object {:d}: flux = {:f} +/- {:f}\".format(i, flux[i], fluxerr[i]))"
   ]
  },
  {
   "cell_type": "markdown",
   "id": "4878aaec",
   "metadata": {},
   "source": [
    "## Using ABMag we plot the Histogram (referenced from STSCI website)"
   ]
  },
  {
   "cell_type": "code",
   "execution_count": null,
   "id": "eaf2a151",
   "metadata": {},
   "outputs": [],
   "source": [
    "#we are only concerned with positive flux values\n",
    "flux_1 = flux[flux > 0]\n",
    "ABMag = -2.5 * np.log10(flux_1) - 26.0974"
   ]
  },
  {
   "cell_type": "code",
   "execution_count": null,
   "id": "acadd1c7",
   "metadata": {},
   "outputs": [],
   "source": [
    "histogram = plt.hist(ABMag, bins = 'auto')\n",
    "plt.savefig('astro_histogram.png')"
   ]
  },
  {
   "cell_type": "code",
   "execution_count": null,
   "id": "63c6743e",
   "metadata": {},
   "outputs": [],
   "source": [
    "print('min', min(flux))\n",
    "print('max', max(flux))\n",
    "print('shape', flux.shape)"
   ]
  },
  {
   "cell_type": "code",
   "execution_count": null,
   "id": "56655862",
   "metadata": {},
   "outputs": [],
   "source": []
  }
 ],
 "metadata": {
  "kernelspec": {
   "display_name": "Python 3 (ipykernel)",
   "language": "python",
   "name": "python3"
  },
  "language_info": {
   "codemirror_mode": {
    "name": "ipython",
    "version": 3
   },
   "file_extension": ".py",
   "mimetype": "text/x-python",
   "name": "python",
   "nbconvert_exporter": "python",
   "pygments_lexer": "ipython3",
   "version": "3.9.7"
  }
 },
 "nbformat": 4,
 "nbformat_minor": 5
}
